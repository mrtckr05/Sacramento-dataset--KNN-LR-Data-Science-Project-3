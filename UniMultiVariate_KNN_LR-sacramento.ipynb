{
 "cells": [
  {
   "cell_type": "markdown",
   "id": "288cb05e-e05b-4a6d-a8b2-32c878c64a95",
   "metadata": {},
   "source": [
    "# Univariate and multivariate models: My own KNN model vs Scikit-Learn's KNN model and Multivariate Linear Regression Model \n",
    "# on Sacramento dataset "
   ]
  },
  {
   "cell_type": "code",
   "execution_count": 174,
   "id": "39214724-ae60-4f99-825e-a8ade1aecb26",
   "metadata": {},
   "outputs": [],
   "source": [
    "#library importing"
   ]
  },
  {
   "cell_type": "code",
   "execution_count": 4,
   "id": "cd5fb2ab-b3a4-4343-ba28-5ddbcbec4146",
   "metadata": {},
   "outputs": [],
   "source": [
    "import pandas as pd\n",
    "import numpy as np\n",
    "import seaborn as sns\n",
    "import matplotlib.pyplot as plt\n",
    "from haversine import haversine, Unit\n",
    "from sklearn.preprocessing import LabelEncoder, MinMaxScaler, StandardScaler\n",
    "from sklearn.model_selection import train_test_split, GridSearchCV\n",
    "from sklearn.linear_model import LinearRegression\n",
    "from sklearn.metrics import mean_absolute_error, mean_squared_error\n",
    "from sklearn.neighbors import KNeighborsRegressor\n",
    "from collections import Counter"
   ]
  },
  {
   "cell_type": "code",
   "execution_count": 176,
   "id": "d2ad09ae-30c9-4d24-8be3-15fc74874f7b",
   "metadata": {},
   "outputs": [],
   "source": [
    "#dataset importing and the firts look"
   ]
  },
  {
   "cell_type": "code",
   "execution_count": 6,
   "id": "e1efd3d0-19b2-43ce-ad5f-093def53a140",
   "metadata": {},
   "outputs": [],
   "source": [
    "df = pd.read_csv(\"sacramento(1).csv\")"
   ]
  },
  {
   "cell_type": "code",
   "execution_count": 5,
   "id": "175545ee-90b4-4fb8-b9eb-5913b8a7c0fd",
   "metadata": {},
   "outputs": [
    {
     "data": {
      "text/html": [
       "<div>\n",
       "<style scoped>\n",
       "    .dataframe tbody tr th:only-of-type {\n",
       "        vertical-align: middle;\n",
       "    }\n",
       "\n",
       "    .dataframe tbody tr th {\n",
       "        vertical-align: top;\n",
       "    }\n",
       "\n",
       "    .dataframe thead th {\n",
       "        text-align: right;\n",
       "    }\n",
       "</style>\n",
       "<table border=\"1\" class=\"dataframe\">\n",
       "  <thead>\n",
       "    <tr style=\"text-align: right;\">\n",
       "      <th></th>\n",
       "      <th>street</th>\n",
       "      <th>city</th>\n",
       "      <th>zip</th>\n",
       "      <th>state</th>\n",
       "      <th>beds</th>\n",
       "      <th>baths</th>\n",
       "      <th>sq__ft</th>\n",
       "      <th>type</th>\n",
       "      <th>sale_date</th>\n",
       "      <th>price</th>\n",
       "      <th>latitude</th>\n",
       "      <th>longitude</th>\n",
       "    </tr>\n",
       "  </thead>\n",
       "  <tbody>\n",
       "    <tr>\n",
       "      <th>0</th>\n",
       "      <td>3526 HIGH ST</td>\n",
       "      <td>SACRAMENTO</td>\n",
       "      <td>95838</td>\n",
       "      <td>CA</td>\n",
       "      <td>2</td>\n",
       "      <td>1</td>\n",
       "      <td>836</td>\n",
       "      <td>Residential</td>\n",
       "      <td>Wed May 21 00:00:00 EDT 2008</td>\n",
       "      <td>59222</td>\n",
       "      <td>38.631913</td>\n",
       "      <td>-121.434879</td>\n",
       "    </tr>\n",
       "    <tr>\n",
       "      <th>1</th>\n",
       "      <td>51 OMAHA CT</td>\n",
       "      <td>SACRAMENTO</td>\n",
       "      <td>95823</td>\n",
       "      <td>CA</td>\n",
       "      <td>3</td>\n",
       "      <td>1</td>\n",
       "      <td>1167</td>\n",
       "      <td>Residential</td>\n",
       "      <td>Wed May 21 00:00:00 EDT 2008</td>\n",
       "      <td>68212</td>\n",
       "      <td>38.478902</td>\n",
       "      <td>-121.431028</td>\n",
       "    </tr>\n",
       "    <tr>\n",
       "      <th>2</th>\n",
       "      <td>2796 BRANCH ST</td>\n",
       "      <td>SACRAMENTO</td>\n",
       "      <td>95815</td>\n",
       "      <td>CA</td>\n",
       "      <td>2</td>\n",
       "      <td>1</td>\n",
       "      <td>796</td>\n",
       "      <td>Residential</td>\n",
       "      <td>Wed May 21 00:00:00 EDT 2008</td>\n",
       "      <td>68880</td>\n",
       "      <td>38.618305</td>\n",
       "      <td>-121.443839</td>\n",
       "    </tr>\n",
       "    <tr>\n",
       "      <th>3</th>\n",
       "      <td>2805 JANETTE WAY</td>\n",
       "      <td>SACRAMENTO</td>\n",
       "      <td>95815</td>\n",
       "      <td>CA</td>\n",
       "      <td>2</td>\n",
       "      <td>1</td>\n",
       "      <td>852</td>\n",
       "      <td>Residential</td>\n",
       "      <td>Wed May 21 00:00:00 EDT 2008</td>\n",
       "      <td>69307</td>\n",
       "      <td>38.616835</td>\n",
       "      <td>-121.439146</td>\n",
       "    </tr>\n",
       "    <tr>\n",
       "      <th>4</th>\n",
       "      <td>6001 MCMAHON DR</td>\n",
       "      <td>SACRAMENTO</td>\n",
       "      <td>95824</td>\n",
       "      <td>CA</td>\n",
       "      <td>2</td>\n",
       "      <td>1</td>\n",
       "      <td>797</td>\n",
       "      <td>Residential</td>\n",
       "      <td>Wed May 21 00:00:00 EDT 2008</td>\n",
       "      <td>81900</td>\n",
       "      <td>38.519470</td>\n",
       "      <td>-121.435768</td>\n",
       "    </tr>\n",
       "    <tr>\n",
       "      <th>...</th>\n",
       "      <td>...</td>\n",
       "      <td>...</td>\n",
       "      <td>...</td>\n",
       "      <td>...</td>\n",
       "      <td>...</td>\n",
       "      <td>...</td>\n",
       "      <td>...</td>\n",
       "      <td>...</td>\n",
       "      <td>...</td>\n",
       "      <td>...</td>\n",
       "      <td>...</td>\n",
       "      <td>...</td>\n",
       "    </tr>\n",
       "    <tr>\n",
       "      <th>980</th>\n",
       "      <td>9169 GARLINGTON CT</td>\n",
       "      <td>SACRAMENTO</td>\n",
       "      <td>95829</td>\n",
       "      <td>CA</td>\n",
       "      <td>4</td>\n",
       "      <td>3</td>\n",
       "      <td>2280</td>\n",
       "      <td>Residential</td>\n",
       "      <td>Thu May 15 00:00:00 EDT 2008</td>\n",
       "      <td>232425</td>\n",
       "      <td>38.457679</td>\n",
       "      <td>-121.359620</td>\n",
       "    </tr>\n",
       "    <tr>\n",
       "      <th>981</th>\n",
       "      <td>6932 RUSKUT WAY</td>\n",
       "      <td>SACRAMENTO</td>\n",
       "      <td>95823</td>\n",
       "      <td>CA</td>\n",
       "      <td>3</td>\n",
       "      <td>2</td>\n",
       "      <td>1477</td>\n",
       "      <td>Residential</td>\n",
       "      <td>Thu May 15 00:00:00 EDT 2008</td>\n",
       "      <td>234000</td>\n",
       "      <td>38.499893</td>\n",
       "      <td>-121.458890</td>\n",
       "    </tr>\n",
       "    <tr>\n",
       "      <th>982</th>\n",
       "      <td>7933 DAFFODIL WAY</td>\n",
       "      <td>CITRUS HEIGHTS</td>\n",
       "      <td>95610</td>\n",
       "      <td>CA</td>\n",
       "      <td>3</td>\n",
       "      <td>2</td>\n",
       "      <td>1216</td>\n",
       "      <td>Residential</td>\n",
       "      <td>Thu May 15 00:00:00 EDT 2008</td>\n",
       "      <td>235000</td>\n",
       "      <td>38.708824</td>\n",
       "      <td>-121.256803</td>\n",
       "    </tr>\n",
       "    <tr>\n",
       "      <th>983</th>\n",
       "      <td>8304 RED FOX WAY</td>\n",
       "      <td>ELK GROVE</td>\n",
       "      <td>95758</td>\n",
       "      <td>CA</td>\n",
       "      <td>4</td>\n",
       "      <td>2</td>\n",
       "      <td>1685</td>\n",
       "      <td>Residential</td>\n",
       "      <td>Thu May 15 00:00:00 EDT 2008</td>\n",
       "      <td>235301</td>\n",
       "      <td>38.417000</td>\n",
       "      <td>-121.397424</td>\n",
       "    </tr>\n",
       "    <tr>\n",
       "      <th>984</th>\n",
       "      <td>3882 YELLOWSTONE LN</td>\n",
       "      <td>EL DORADO HILLS</td>\n",
       "      <td>95762</td>\n",
       "      <td>CA</td>\n",
       "      <td>3</td>\n",
       "      <td>2</td>\n",
       "      <td>1362</td>\n",
       "      <td>Residential</td>\n",
       "      <td>Thu May 15 00:00:00 EDT 2008</td>\n",
       "      <td>235738</td>\n",
       "      <td>38.655245</td>\n",
       "      <td>-121.075915</td>\n",
       "    </tr>\n",
       "  </tbody>\n",
       "</table>\n",
       "<p>985 rows × 12 columns</p>\n",
       "</div>"
      ],
      "text/plain": [
       "                  street             city    zip state  beds  baths  sq__ft  \\\n",
       "0           3526 HIGH ST       SACRAMENTO  95838    CA     2      1     836   \n",
       "1            51 OMAHA CT       SACRAMENTO  95823    CA     3      1    1167   \n",
       "2         2796 BRANCH ST       SACRAMENTO  95815    CA     2      1     796   \n",
       "3       2805 JANETTE WAY       SACRAMENTO  95815    CA     2      1     852   \n",
       "4        6001 MCMAHON DR       SACRAMENTO  95824    CA     2      1     797   \n",
       "..                   ...              ...    ...   ...   ...    ...     ...   \n",
       "980   9169 GARLINGTON CT       SACRAMENTO  95829    CA     4      3    2280   \n",
       "981      6932 RUSKUT WAY       SACRAMENTO  95823    CA     3      2    1477   \n",
       "982    7933 DAFFODIL WAY   CITRUS HEIGHTS  95610    CA     3      2    1216   \n",
       "983     8304 RED FOX WAY        ELK GROVE  95758    CA     4      2    1685   \n",
       "984  3882 YELLOWSTONE LN  EL DORADO HILLS  95762    CA     3      2    1362   \n",
       "\n",
       "            type                     sale_date   price   latitude   longitude  \n",
       "0    Residential  Wed May 21 00:00:00 EDT 2008   59222  38.631913 -121.434879  \n",
       "1    Residential  Wed May 21 00:00:00 EDT 2008   68212  38.478902 -121.431028  \n",
       "2    Residential  Wed May 21 00:00:00 EDT 2008   68880  38.618305 -121.443839  \n",
       "3    Residential  Wed May 21 00:00:00 EDT 2008   69307  38.616835 -121.439146  \n",
       "4    Residential  Wed May 21 00:00:00 EDT 2008   81900  38.519470 -121.435768  \n",
       "..           ...                           ...     ...        ...         ...  \n",
       "980  Residential  Thu May 15 00:00:00 EDT 2008  232425  38.457679 -121.359620  \n",
       "981  Residential  Thu May 15 00:00:00 EDT 2008  234000  38.499893 -121.458890  \n",
       "982  Residential  Thu May 15 00:00:00 EDT 2008  235000  38.708824 -121.256803  \n",
       "983  Residential  Thu May 15 00:00:00 EDT 2008  235301  38.417000 -121.397424  \n",
       "984  Residential  Thu May 15 00:00:00 EDT 2008  235738  38.655245 -121.075915  \n",
       "\n",
       "[985 rows x 12 columns]"
      ]
     },
     "execution_count": 5,
     "metadata": {},
     "output_type": "execute_result"
    }
   ],
   "source": [
    "df"
   ]
  },
  {
   "cell_type": "code",
   "execution_count": 178,
   "id": "09ab5f8b-645e-48a6-960e-31724e1ea1ec",
   "metadata": {},
   "outputs": [],
   "source": [
    "#checking null values and data types"
   ]
  },
  {
   "cell_type": "code",
   "execution_count": 7,
   "id": "c2fcaea3-46bd-4826-a4aa-04342c9b05d7",
   "metadata": {},
   "outputs": [
    {
     "name": "stdout",
     "output_type": "stream",
     "text": [
      "<class 'pandas.core.frame.DataFrame'>\n",
      "RangeIndex: 985 entries, 0 to 984\n",
      "Data columns (total 12 columns):\n",
      " #   Column     Non-Null Count  Dtype  \n",
      "---  ------     --------------  -----  \n",
      " 0   street     985 non-null    object \n",
      " 1   city       985 non-null    object \n",
      " 2   zip        985 non-null    int64  \n",
      " 3   state      985 non-null    object \n",
      " 4   beds       985 non-null    int64  \n",
      " 5   baths      985 non-null    int64  \n",
      " 6   sq__ft     985 non-null    int64  \n",
      " 7   type       985 non-null    object \n",
      " 8   sale_date  985 non-null    object \n",
      " 9   price      985 non-null    int64  \n",
      " 10  latitude   985 non-null    float64\n",
      " 11  longitude  985 non-null    float64\n",
      "dtypes: float64(2), int64(5), object(5)\n",
      "memory usage: 92.5+ KB\n"
     ]
    }
   ],
   "source": [
    "df.info()"
   ]
  },
  {
   "cell_type": "markdown",
   "id": "5c173c69-08cd-424f-86e9-cc681b455035",
   "metadata": {},
   "source": [
    "## Distance Matrix by using Haversine"
   ]
  },
  {
   "cell_type": "code",
   "execution_count": 181,
   "id": "974a78fe-061f-4157-9f0d-abb725dc73d1",
   "metadata": {},
   "outputs": [],
   "source": [
    "#symmetrical distance matrix"
   ]
  },
  {
   "cell_type": "code",
   "execution_count": 13,
   "id": "17211e40-21ed-4279-ad6c-341a83a90de9",
   "metadata": {},
   "outputs": [],
   "source": [
    "def set_distance_matrix(data):\n",
    "    distance_matrix = np.zeros((985,985))\n",
    "    for i in range(985):\n",
    "        for j in range(i,985):\n",
    "            city1 = (df.loc[i,'latitude'],df.loc[i,'longitude'])\n",
    "            city2 = (df.loc[j,'latitude'],df.loc[j,'longitude'])\n",
    "            distance = haversine(city1,city2)\n",
    "            distance_matrix[i][j] = distance\n",
    "            distance_matrix[j][i] = distance \n",
    "    return distance_matrix"
   ]
  },
  {
   "cell_type": "code",
   "execution_count": 183,
   "id": "1cf2688c-51c0-4dce-bd36-f6d8b0e650a4",
   "metadata": {},
   "outputs": [],
   "source": [
    "#using function and converting normal array to numpy array"
   ]
  },
  {
   "cell_type": "code",
   "execution_count": 15,
   "id": "cdd2478c-5c62-46d0-921c-66060efa5e32",
   "metadata": {},
   "outputs": [
    {
     "data": {
      "text/plain": [
       "array([[ 0.        , 17.01736543,  1.70160188, ..., 17.66763449,\n",
       "        24.11837412, 31.28320983],\n",
       "       [17.01736543,  0.        , 15.54091223, ..., 29.71362129,\n",
       "         7.47945567, 36.5744056 ],\n",
       "       [ 1.70160188, 15.54091223,  0.        , ..., 19.10556801,\n",
       "        22.74545318, 32.21953717],\n",
       "       ...,\n",
       "       [17.66763449, 29.71362129, 19.10556801, ...,  0.        ,\n",
       "        34.67633526, 16.79370402],\n",
       "       [24.11837412,  7.47945567, 22.74545318, ..., 34.67633526,\n",
       "         0.        , 38.52026705],\n",
       "       [31.28320983, 36.5744056 , 32.21953717, ..., 16.79370402,\n",
       "        38.52026705,  0.        ]])"
      ]
     },
     "execution_count": 15,
     "metadata": {},
     "output_type": "execute_result"
    }
   ],
   "source": [
    "distance_matrix = set_distance_matrix(df)\n",
    "distance_matrix = np.array(distance_matrix)\n",
    "distance_matrix"
   ]
  },
  {
   "cell_type": "markdown",
   "id": "3bccf1b6-9639-43ca-9ffb-e929513067a7",
   "metadata": {},
   "source": [
    "# Train, Test | Split"
   ]
  },
  {
   "cell_type": "code",
   "execution_count": 19,
   "id": "81cd5172-b5d4-4060-bfa3-e472e59b2dc8",
   "metadata": {},
   "outputs": [],
   "source": [
    "X = df[['latitude', 'longitude']]\n",
    "y = df['price']"
   ]
  },
  {
   "cell_type": "code",
   "execution_count": 21,
   "id": "9ff5f0e0-403b-483a-b305-dd79aa16e431",
   "metadata": {},
   "outputs": [],
   "source": [
    "X_train, X_test, y_train, y_test = train_test_split(X, y, test_size = 0.3, random_state = 42)"
   ]
  },
  {
   "cell_type": "markdown",
   "id": "f4ceeaa5-c9ac-4be9-acad-b79cd0c9185a",
   "metadata": {},
   "source": [
    "# My own KNN model"
   ]
  },
  {
   "cell_type": "code",
   "execution_count": 187,
   "id": "803fd4b4-9704-41be-ae77-72f24411e976",
   "metadata": {},
   "outputs": [],
   "source": [
    "#MertKNN object, it has a prediction and error calculator function."
   ]
  },
  {
   "cell_type": "code",
   "execution_count": 105,
   "id": "e75a1163-bccd-413f-8520-614b7a1b901b",
   "metadata": {},
   "outputs": [],
   "source": [
    "class MertKNN():\n",
    "    def __init__(self, distance_matrix, y_train, N=5):\n",
    "        self.N = N\n",
    "        self.distance_matrix = distance_matrix\n",
    "        self.y_train = y_train.reset_index(drop=True)\n",
    "    def Mertpredict(self, test_index):\n",
    "        distances = self.distance_matrix[:, test_index]\n",
    "        nearest_neighbors = np.argsort(distances)[:self.N]\n",
    "        return self.y_train.iloc[nearest_neighbors].mean()\n",
    "    def MertcalcError(self, test_index, y_test):\n",
    "        predictions = [self.Mertpredict(i) for i in test_indices]\n",
    "        mae = mean_absolute_error(y_test, predictions)\n",
    "        rmse = np.sqrt(mean_squared_error(y_test, predictions))\n",
    "        return mae, rmse"
   ]
  },
  {
   "cell_type": "code",
   "execution_count": 81,
   "id": "ad909c98-7210-4fa7-afd0-64fe85a14723",
   "metadata": {},
   "outputs": [],
   "source": [
    "X_train = X_train.reset_index(drop=True)\n",
    "X_test = X_test.reset_index(drop=True)\n",
    "y_train = y_train.reset_index(drop=True)\n",
    "y_test = y_test.reset_index(drop=True)"
   ]
  },
  {
   "cell_type": "code",
   "execution_count": 83,
   "id": "7c36e9f5-f7e2-43c3-a591-0527d314c17b",
   "metadata": {},
   "outputs": [],
   "source": [
    "train_indices = X_train.index  # Indices of training rows\n",
    "test_indices = X_test.index    # Indices of testing columns\n",
    "\n",
    "# Slice the full distance matrix: rows (train_indices), columns (test_indices)\n",
    "distance_matrix_train_test = distance_matrix[np.ix_(train_indices, test_indices)]"
   ]
  },
  {
   "cell_type": "code",
   "execution_count": 189,
   "id": "b78ee034-ead6-45d9-8e73-e4412f142869",
   "metadata": {},
   "outputs": [],
   "source": [
    "#Building the my model"
   ]
  },
  {
   "cell_type": "code",
   "execution_count": 85,
   "id": "21e40977-4b95-43fc-97a1-7c6d63337f04",
   "metadata": {},
   "outputs": [],
   "source": [
    "mertknn = MertKNN(distance_matrix_train_test, y_train, N=3)"
   ]
  },
  {
   "cell_type": "code",
   "execution_count": 191,
   "id": "05a2df1e-9b9e-4aec-91d6-5d98146d843b",
   "metadata": {},
   "outputs": [],
   "source": [
    "#Calculating MAE and RMSE with using my MertcalcError function"
   ]
  },
  {
   "cell_type": "code",
   "execution_count": 87,
   "id": "69f67282-3ad7-448f-9efc-8948ada30366",
   "metadata": {},
   "outputs": [],
   "source": [
    "mae, rmse = mertknn.MertcalcError(distance_matrix_train_test, y_test=y_test)"
   ]
  },
  {
   "cell_type": "code",
   "execution_count": 89,
   "id": "7aa10833-f9a7-4b72-b45f-a326c9e73a70",
   "metadata": {},
   "outputs": [
    {
     "name": "stdout",
     "output_type": "stream",
     "text": [
      "MAE: 125723.06\n",
      "RMSE: 164916.73\n"
     ]
    }
   ],
   "source": [
    "print(f\"MAE: {mae:.2f}\")\n",
    "print(f\"RMSE: {rmse:.2f}\")"
   ]
  },
  {
   "cell_type": "markdown",
   "id": "4c959439-ffaa-46c4-92ed-645c8889d640",
   "metadata": {},
   "source": [
    "## Calculating MAE and RMSE for a range of N values"
   ]
  },
  {
   "cell_type": "code",
   "execution_count": 194,
   "id": "c4c374a3-d898-47e3-9d98-37335e5ecabc",
   "metadata": {},
   "outputs": [],
   "source": [
    "#Neighbors 1 to 21 and error values"
   ]
  },
  {
   "cell_type": "code",
   "execution_count": 91,
   "id": "b05c1a01-406f-4b8b-94db-09ccf3af7997",
   "metadata": {},
   "outputs": [],
   "source": [
    "N_values = range(1, 21)\n",
    "mae_values, rmse_values = [], []"
   ]
  },
  {
   "cell_type": "code",
   "execution_count": 196,
   "id": "1af54525-ac6a-4dd6-ab56-5a9992f4bda8",
   "metadata": {},
   "outputs": [],
   "source": [
    "#Getting MAE and RMSE for each N value"
   ]
  },
  {
   "cell_type": "code",
   "execution_count": 123,
   "id": "9390a372-4795-4dcb-8e11-8978096c0e10",
   "metadata": {},
   "outputs": [
    {
     "data": {
      "image/png": "[encoded data removed]",
      "text/plain": [
       "<Figure size 1000x600 with 1 Axes>"
      ]
     },
     "metadata": {},
     "output_type": "display_data"
    },
    {
     "data": {
      "text/plain": [
       "(16, 111158.6028293919, 149144.13740404352)"
      ]
     },
     "execution_count": 123,
     "metadata": {},
     "output_type": "execute_result"
    }
   ],
   "source": [
    "for N in N_values:\n",
    "    knn_n = MertKNN(distance_matrix_train_test, y_train, N=N)\n",
    "    mae, rmse = knn_n.MertcalcError(test_indices,y_test)\n",
    "    mae_values.append(mae)\n",
    "    rmse_values.append(rmse)\n",
    "\n",
    "# Plot MAE and RMSE\n",
    "plt.figure(figsize=(10, 6))\n",
    "plt.plot(N_values, mae_values, label='MAE')\n",
    "plt.plot(N_values, rmse_values, label='RMSE')\n",
    "plt.xlabel('Number of Neighbors (N)')\n",
    "plt.ylabel('Error')\n",
    "plt.title('Performance of Custom KNN Model')\n",
    "plt.legend()\n",
    "plt.grid()\n",
    "plt.show()\n",
    "# Best N\n",
    "best_N = N_values[np.argmin(mae_values)]\n",
    "best_mae = min(mae_values)\n",
    "best_rmse = rmse_values[np.argmin(mae_values)]\n",
    "best_N, best_mae, best_rmse"
   ]
  },
  {
   "cell_type": "markdown",
   "id": "00018538-68b2-4fc8-a479-186d14fa555c",
   "metadata": {},
   "source": [
    "# Scikit-Learn Model"
   ]
  },
  {
   "cell_type": "markdown",
   "id": "24f253a5-0196-4fe1-b08c-08c8a902b50b",
   "metadata": {},
   "source": [
    "## Train and Test | Split for univariate and multivariate models"
   ]
  },
  {
   "cell_type": "code",
   "execution_count": 130,
   "id": "40ebff24-67ea-4afa-8566-d68edfb37cb5",
   "metadata": {},
   "outputs": [],
   "source": [
    "X_univariate = df[['sq__ft']]\n",
    "X_multivariate = df[['beds', 'baths', 'sq__ft', 'latitude', 'longitude']]\n",
    "y = df['price']"
   ]
  },
  {
   "cell_type": "code",
   "execution_count": 132,
   "id": "3137275b-24e4-40f3-8104-c4b8a0fd0508",
   "metadata": {},
   "outputs": [],
   "source": [
    "X_uni_train, X_uni_test, y_train, y_test = train_test_split(X_univariate, y, test_size=0.2, random_state=42)\n",
    "X_multi_train, X_multi_test, _, _ = train_test_split(X_multivariate, y, test_size=0.2, random_state=42)"
   ]
  },
  {
   "cell_type": "markdown",
   "id": "af181424-bdcc-47dd-be9b-ebadec0d79b6",
   "metadata": {},
   "source": [
    "### Scaling for uni and multivariate models"
   ]
  },
  {
   "cell_type": "code",
   "execution_count": 134,
   "id": "d7b74c8f-3645-4929-82ca-c7dac2b51312",
   "metadata": {},
   "outputs": [],
   "source": [
    "scaler_uni = StandardScaler()\n",
    "X_uni_train_scaled = scaler_uni.fit_transform(X_uni_train)\n",
    "X_uni_test_scaled = scaler_uni.transform(X_uni_test)"
   ]
  },
  {
   "cell_type": "code",
   "execution_count": 136,
   "id": "c54c9540-c661-4ae2-ba87-1ad716697635",
   "metadata": {},
   "outputs": [],
   "source": [
    "scaler_multi = StandardScaler()\n",
    "X_multi_train_scaled = scaler_multi.fit_transform(X_multi_train)\n",
    "X_multi_test_scaled = scaler_multi.transform(X_multi_test)"
   ]
  },
  {
   "cell_type": "markdown",
   "id": "88537a18-73e5-4b71-ad9f-5a422c59f33b",
   "metadata": {},
   "source": [
    "### Applying the Grid Search to both models"
   ]
  },
  {
   "cell_type": "code",
   "execution_count": 201,
   "id": "cf476cb7-d9f7-4448-9fd8-d638dd1f57c4",
   "metadata": {},
   "outputs": [],
   "source": [
    "#Param grid. Again 1 to 21 neighbors"
   ]
  },
  {
   "cell_type": "code",
   "execution_count": 138,
   "id": "fe0a6290-9458-450c-91b1-19867c313e2b",
   "metadata": {},
   "outputs": [],
   "source": [
    "param_grid = {'n_neighbors': range(1, 21)}"
   ]
  },
  {
   "cell_type": "code",
   "execution_count": 140,
   "id": "fdf6d56f-99aa-4e61-8e62-18ee8aaba908",
   "metadata": {},
   "outputs": [],
   "source": [
    "knn_uni = GridSearchCV(KNeighborsRegressor(), param_grid, cv=5, scoring='neg_mean_absolute_error')\n",
    "knn_uni.fit(X_uni_train_scaled, y_train)\n",
    "best_n_uni = knn_uni.best_params_['n_neighbors']"
   ]
  },
  {
   "cell_type": "code",
   "execution_count": 142,
   "id": "11fe12c2-71bb-4600-b474-9ceeba9dee84",
   "metadata": {},
   "outputs": [],
   "source": [
    "knn_multi = GridSearchCV(KNeighborsRegressor(), param_grid, cv=5, scoring='neg_mean_absolute_error')\n",
    "knn_multi.fit(X_multi_train_scaled, y_train)\n",
    "best_n_multi = knn_multi.best_params_['n_neighbors']"
   ]
  },
  {
   "cell_type": "markdown",
   "id": "31635058-e1de-4feb-a0e7-0645f47e0da2",
   "metadata": {},
   "source": [
    "### Final uni and multivariate models with hyperparameters"
   ]
  },
  {
   "cell_type": "code",
   "execution_count": 144,
   "id": "4f37c55d-8f02-48f7-a651-f8d875d26a7d",
   "metadata": {},
   "outputs": [],
   "source": [
    "final_knn_uni = KNeighborsRegressor(n_neighbors=best_n_uni)\n",
    "final_knn_uni.fit(X_uni_train_scaled, y_train)\n",
    "y_pred_uni = final_knn_uni.predict(X_uni_test_scaled)"
   ]
  },
  {
   "cell_type": "code",
   "execution_count": 146,
   "id": "e00a5044-7f17-464e-899d-9cc525367bad",
   "metadata": {},
   "outputs": [],
   "source": [
    "final_knn_multi = KNeighborsRegressor(n_neighbors=best_n_multi)\n",
    "final_knn_multi.fit(X_multi_train_scaled, y_train)\n",
    "y_pred_multi = final_knn_multi.predict(X_multi_test_scaled)"
   ]
  },
  {
   "cell_type": "code",
   "execution_count": 205,
   "id": "366d10f4-1ce5-47c4-aaea-a32eb115b8c8",
   "metadata": {},
   "outputs": [],
   "source": [
    "#MAE and RMSE for univariate model"
   ]
  },
  {
   "cell_type": "code",
   "execution_count": 148,
   "id": "d327731f-57db-4f5f-afea-db7ffb371f25",
   "metadata": {},
   "outputs": [],
   "source": [
    "mae_uni = mean_absolute_error(y_test, y_pred_uni)\n",
    "rmse_uni = np.sqrt(mean_squared_error(y_test, y_pred_uni))"
   ]
  },
  {
   "cell_type": "code",
   "execution_count": 207,
   "id": "72c1ede9-3374-40c0-8ba5-51861a1e287f",
   "metadata": {},
   "outputs": [],
   "source": [
    "#MAE and RMSE for multivariate model"
   ]
  },
  {
   "cell_type": "code",
   "execution_count": 150,
   "id": "465aad66-42a3-403c-abbf-81eda3aa479a",
   "metadata": {},
   "outputs": [],
   "source": [
    "mae_multi = mean_absolute_error(y_test, y_pred_multi)\n",
    "rmse_multi = np.sqrt(mean_squared_error(y_test, y_pred_multi))"
   ]
  },
  {
   "cell_type": "code",
   "execution_count": 209,
   "id": "380a8ee6-5a5a-4da4-9d66-13e97cf30f9f",
   "metadata": {},
   "outputs": [],
   "source": [
    "#Printing the results"
   ]
  },
  {
   "cell_type": "code",
   "execution_count": 152,
   "id": "ce45999f-785f-4ea9-b6a9-c5e7024e12f0",
   "metadata": {},
   "outputs": [
    {
     "name": "stdout",
     "output_type": "stream",
     "text": [
      "Univariate Model (sqft): Best N = 20\n",
      "MAE: 89628.26\n",
      "RMSE: 130663.88\n",
      "\n",
      "Multivariate Model: Best N = 10\n",
      "MAE: 73213.69\n",
      "RMSE: 113772.40\n"
     ]
    }
   ],
   "source": [
    "print(f\"Univariate Model (sqft): Best N = {best_n_uni}\")\n",
    "print(f\"MAE: {mae_uni:.2f}\")\n",
    "print(f\"RMSE: {rmse_uni:.2f}\\n\")\n",
    "\n",
    "print(f\"Multivariate Model: Best N = {best_n_multi}\")\n",
    "print(f\"MAE: {mae_multi:.2f}\")\n",
    "print(f\"RMSE: {rmse_multi:.2f}\")"
   ]
  },
  {
   "cell_type": "markdown",
   "id": "2c1d3f60-65ec-47c0-b931-8ef7cbdc06c7",
   "metadata": {},
   "source": [
    "# Bonus Problem - Multivariate Linear Regression Model"
   ]
  },
  {
   "cell_type": "markdown",
   "id": "76c414ec-cf0d-4eaa-86a1-82c78f8b1a4d",
   "metadata": {},
   "source": [
    "### Train-Test | Split for Linear Regression Model"
   ]
  },
  {
   "cell_type": "code",
   "execution_count": 159,
   "id": "180f186d-d7d9-453e-a49d-9d7d24ad39cd",
   "metadata": {},
   "outputs": [],
   "source": [
    "X = df[['beds', 'baths', 'sq__ft', 'latitude', 'longitude']]\n",
    "y = df['price']"
   ]
  },
  {
   "cell_type": "code",
   "execution_count": 161,
   "id": "42dda32e-6b7b-494c-bddd-e157e61c0a9c",
   "metadata": {},
   "outputs": [],
   "source": [
    "X_train, X_test, y_train, y_test = train_test_split(X, y, test_size=0.3, random_state=42)"
   ]
  },
  {
   "cell_type": "markdown",
   "id": "002049b7-9240-4990-a0f0-5fe824c27e90",
   "metadata": {},
   "source": [
    "### Scaling for Linear Model's data"
   ]
  },
  {
   "cell_type": "code",
   "execution_count": 163,
   "id": "3ef83f8a-fa13-4ff9-ad5e-243bdc654f68",
   "metadata": {},
   "outputs": [],
   "source": [
    "scaler = StandardScaler()\n",
    "X_train_sd = scaler.fit_transform(X_train)\n",
    "X_test_sd = scaler.transform(X_test)"
   ]
  },
  {
   "cell_type": "code",
   "execution_count": 165,
   "id": "817e05f3-f637-4f4f-bd5d-c6984c4bfa0a",
   "metadata": {},
   "outputs": [
    {
     "data": {
      "text/html": [
       "<style>#sk-container-id-1 {\n",
       "  /* Definition of color scheme common for light and dark mode */\n",
       "  --sklearn-color-text: black;\n",
       "  --sklearn-color-line: gray;\n",
       "  /* Definition of color scheme for unfitted estimators */\n",
       "  --sklearn-color-unfitted-level-0: #fff5e6;\n",
       "  --sklearn-color-unfitted-level-1: #f6e4d2;\n",
       "  --sklearn-color-unfitted-level-2: #ffe0b3;\n",
       "  --sklearn-color-unfitted-level-3: chocolate;\n",
       "  /* Definition of color scheme for fitted estimators */\n",
       "  --sklearn-color-fitted-level-0: #f0f8ff;\n",
       "  --sklearn-color-fitted-level-1: #d4ebff;\n",
       "  --sklearn-color-fitted-level-2: #b3dbfd;\n",
       "  --sklearn-color-fitted-level-3: cornflowerblue;\n",
       "\n",
       "  /* Specific color for light theme */\n",
       "  --sklearn-color-text-on-default-background: var(--sg-text-color, var(--theme-code-foreground, var(--jp-content-font-color1, black)));\n",
       "  --sklearn-color-background: var(--sg-background-color, var(--theme-background, var(--jp-layout-color0, white)));\n",
       "  --sklearn-color-border-box: var(--sg-text-color, var(--theme-code-foreground, var(--jp-content-font-color1, black)));\n",
       "  --sklearn-color-icon: #696969;\n",
       "\n",
       "  @media (prefers-color-scheme: dark) {\n",
       "    /* Redefinition of color scheme for dark theme */\n",
       "    --sklearn-color-text-on-default-background: var(--sg-text-color, var(--theme-code-foreground, var(--jp-content-font-color1, white)));\n",
       "    --sklearn-color-background: var(--sg-background-color, var(--theme-background, var(--jp-layout-color0, #111)));\n",
       "    --sklearn-color-border-box: var(--sg-text-color, var(--theme-code-foreground, var(--jp-content-font-color1, white)));\n",
       "    --sklearn-color-icon: #878787;\n",
       "  }\n",
       "}\n",
       "\n",
       "#sk-container-id-1 {\n",
       "  color: var(--sklearn-color-text);\n",
       "}\n",
       "\n",
       "#sk-container-id-1 pre {\n",
       "  padding: 0;\n",
       "}\n",
       "\n",
       "#sk-container-id-1 input.sk-hidden--visually {\n",
       "  border: 0;\n",
       "  clip: rect(1px 1px 1px 1px);\n",
       "  clip: rect(1px, 1px, 1px, 1px);\n",
       "  height: 1px;\n",
       "  margin: -1px;\n",
       "  overflow: hidden;\n",
       "  padding: 0;\n",
       "  position: absolute;\n",
       "  width: 1px;\n",
       "}\n",
       "\n",
       "#sk-container-id-1 div.sk-dashed-wrapped {\n",
       "  border: 1px dashed var(--sklearn-color-line);\n",
       "  margin: 0 0.4em 0.5em 0.4em;\n",
       "  box-sizing: border-box;\n",
       "  padding-bottom: 0.4em;\n",
       "  background-color: var(--sklearn-color-background);\n",
       "}\n",
       "\n",
       "#sk-container-id-1 div.sk-container {\n",
       "  /* jupyter's `normalize.less` sets `[hidden] { display: none; }`\n",
       "     but bootstrap.min.css set `[hidden] { display: none !important; }`\n",
       "     so we also need the `!important` here to be able to override the\n",
       "     default hidden behavior on the sphinx rendered scikit-learn.org.\n",
       "     See: https://github.com/scikit-learn/scikit-learn/issues/21755 */\n",
       "  display: inline-block !important;\n",
       "  position: relative;\n",
       "}\n",
       "\n",
       "#sk-container-id-1 div.sk-text-repr-fallback {\n",
       "  display: none;\n",
       "}\n",
       "\n",
       "div.sk-parallel-item,\n",
       "div.sk-serial,\n",
       "div.sk-item {\n",
       "  /* draw centered vertical line to link estimators */\n",
       "  background-image: linear-gradient(var(--sklearn-color-text-on-default-background), var(--sklearn-color-text-on-default-background));\n",
       "  background-size: 2px 100%;\n",
       "  background-repeat: no-repeat;\n",
       "  background-position: center center;\n",
       "}\n",
       "\n",
       "/* Parallel-specific style estimator block */\n",
       "\n",
       "#sk-container-id-1 div.sk-parallel-item::after {\n",
       "  content: \"\";\n",
       "  width: 100%;\n",
       "  border-bottom: 2px solid var(--sklearn-color-text-on-default-background);\n",
       "  flex-grow: 1;\n",
       "}\n",
       "\n",
       "#sk-container-id-1 div.sk-parallel {\n",
       "  display: flex;\n",
       "  align-items: stretch;\n",
       "  justify-content: center;\n",
       "  background-color: var(--sklearn-color-background);\n",
       "  position: relative;\n",
       "}\n",
       "\n",
       "#sk-container-id-1 div.sk-parallel-item {\n",
       "  display: flex;\n",
       "  flex-direction: column;\n",
       "}\n",
       "\n",
       "#sk-container-id-1 div.sk-parallel-item:first-child::after {\n",
       "  align-self: flex-end;\n",
       "  width: 50%;\n",
       "}\n",
       "\n",
       "#sk-container-id-1 div.sk-parallel-item:last-child::after {\n",
       "  align-self: flex-start;\n",
       "  width: 50%;\n",
       "}\n",
       "\n",
       "#sk-container-id-1 div.sk-parallel-item:only-child::after {\n",
       "  width: 0;\n",
       "}\n",
       "\n",
       "/* Serial-specific style estimator block */\n",
       "\n",
       "#sk-container-id-1 div.sk-serial {\n",
       "  display: flex;\n",
       "  flex-direction: column;\n",
       "  align-items: center;\n",
       "  background-color: var(--sklearn-color-background);\n",
       "  padding-right: 1em;\n",
       "  padding-left: 1em;\n",
       "}\n",
       "\n",
       "\n",
       "/* Toggleable style: style used for estimator/Pipeline/ColumnTransformer box that is\n",
       "clickable and can be expanded/collapsed.\n",
       "- Pipeline and ColumnTransformer use this feature and define the default style\n",
       "- Estimators will overwrite some part of the style using the `sk-estimator` class\n",
       "*/\n",
       "\n",
       "/* Pipeline and ColumnTransformer style (default) */\n",
       "\n",
       "#sk-container-id-1 div.sk-toggleable {\n",
       "  /* Default theme specific background. It is overwritten whether we have a\n",
       "  specific estimator or a Pipeline/ColumnTransformer */\n",
       "  background-color: var(--sklearn-color-background);\n",
       "}\n",
       "\n",
       "/* Toggleable label */\n",
       "#sk-container-id-1 label.sk-toggleable__label {\n",
       "  cursor: pointer;\n",
       "  display: block;\n",
       "  width: 100%;\n",
       "  margin-bottom: 0;\n",
       "  padding: 0.5em;\n",
       "  box-sizing: border-box;\n",
       "  text-align: center;\n",
       "}\n",
       "\n",
       "#sk-container-id-1 label.sk-toggleable__label-arrow:before {\n",
       "  /* Arrow on the left of the label */\n",
       "  content: \"▸\";\n",
       "  float: left;\n",
       "  margin-right: 0.25em;\n",
       "  color: var(--sklearn-color-icon);\n",
       "}\n",
       "\n",
       "#sk-container-id-1 label.sk-toggleable__label-arrow:hover:before {\n",
       "  color: var(--sklearn-color-text);\n",
       "}\n",
       "\n",
       "/* Toggleable content - dropdown */\n",
       "\n",
       "#sk-container-id-1 div.sk-toggleable__content {\n",
       "  max-height: 0;\n",
       "  max-width: 0;\n",
       "  overflow: hidden;\n",
       "  text-align: left;\n",
       "  /* unfitted */\n",
       "  background-color: var(--sklearn-color-unfitted-level-0);\n",
       "}\n",
       "\n",
       "#sk-container-id-1 div.sk-toggleable__content.fitted {\n",
       "  /* fitted */\n",
       "  background-color: var(--sklearn-color-fitted-level-0);\n",
       "}\n",
       "\n",
       "#sk-container-id-1 div.sk-toggleable__content pre {\n",
       "  margin: 0.2em;\n",
       "  border-radius: 0.25em;\n",
       "  color: var(--sklearn-color-text);\n",
       "  /* unfitted */\n",
       "  background-color: var(--sklearn-color-unfitted-level-0);\n",
       "}\n",
       "\n",
       "#sk-container-id-1 div.sk-toggleable__content.fitted pre {\n",
       "  /* unfitted */\n",
       "  background-color: var(--sklearn-color-fitted-level-0);\n",
       "}\n",
       "\n",
       "#sk-container-id-1 input.sk-toggleable__control:checked~div.sk-toggleable__content {\n",
       "  /* Expand drop-down */\n",
       "  max-height: 200px;\n",
       "  max-width: 100%;\n",
       "  overflow: auto;\n",
       "}\n",
       "\n",
       "#sk-container-id-1 input.sk-toggleable__control:checked~label.sk-toggleable__label-arrow:before {\n",
       "  content: \"▾\";\n",
       "}\n",
       "\n",
       "/* Pipeline/ColumnTransformer-specific style */\n",
       "\n",
       "#sk-container-id-1 div.sk-label input.sk-toggleable__control:checked~label.sk-toggleable__label {\n",
       "  color: var(--sklearn-color-text);\n",
       "  background-color: var(--sklearn-color-unfitted-level-2);\n",
       "}\n",
       "\n",
       "#sk-container-id-1 div.sk-label.fitted input.sk-toggleable__control:checked~label.sk-toggleable__label {\n",
       "  background-color: var(--sklearn-color-fitted-level-2);\n",
       "}\n",
       "\n",
       "/* Estimator-specific style */\n",
       "\n",
       "/* Colorize estimator box */\n",
       "#sk-container-id-1 div.sk-estimator input.sk-toggleable__control:checked~label.sk-toggleable__label {\n",
       "  /* unfitted */\n",
       "  background-color: var(--sklearn-color-unfitted-level-2);\n",
       "}\n",
       "\n",
       "#sk-container-id-1 div.sk-estimator.fitted input.sk-toggleable__control:checked~label.sk-toggleable__label {\n",
       "  /* fitted */\n",
       "  background-color: var(--sklearn-color-fitted-level-2);\n",
       "}\n",
       "\n",
       "#sk-container-id-1 div.sk-label label.sk-toggleable__label,\n",
       "#sk-container-id-1 div.sk-label label {\n",
       "  /* The background is the default theme color */\n",
       "  color: var(--sklearn-color-text-on-default-background);\n",
       "}\n",
       "\n",
       "/* On hover, darken the color of the background */\n",
       "#sk-container-id-1 div.sk-label:hover label.sk-toggleable__label {\n",
       "  color: var(--sklearn-color-text);\n",
       "  background-color: var(--sklearn-color-unfitted-level-2);\n",
       "}\n",
       "\n",
       "/* Label box, darken color on hover, fitted */\n",
       "#sk-container-id-1 div.sk-label.fitted:hover label.sk-toggleable__label.fitted {\n",
       "  color: var(--sklearn-color-text);\n",
       "  background-color: var(--sklearn-color-fitted-level-2);\n",
       "}\n",
       "\n",
       "/* Estimator label */\n",
       "\n",
       "#sk-container-id-1 div.sk-label label {\n",
       "  font-family: monospace;\n",
       "  font-weight: bold;\n",
       "  display: inline-block;\n",
       "  line-height: 1.2em;\n",
       "}\n",
       "\n",
       "#sk-container-id-1 div.sk-label-container {\n",
       "  text-align: center;\n",
       "}\n",
       "\n",
       "/* Estimator-specific */\n",
       "#sk-container-id-1 div.sk-estimator {\n",
       "  font-family: monospace;\n",
       "  border: 1px dotted var(--sklearn-color-border-box);\n",
       "  border-radius: 0.25em;\n",
       "  box-sizing: border-box;\n",
       "  margin-bottom: 0.5em;\n",
       "  /* unfitted */\n",
       "  background-color: var(--sklearn-color-unfitted-level-0);\n",
       "}\n",
       "\n",
       "#sk-container-id-1 div.sk-estimator.fitted {\n",
       "  /* fitted */\n",
       "  background-color: var(--sklearn-color-fitted-level-0);\n",
       "}\n",
       "\n",
       "/* on hover */\n",
       "#sk-container-id-1 div.sk-estimator:hover {\n",
       "  /* unfitted */\n",
       "  background-color: var(--sklearn-color-unfitted-level-2);\n",
       "}\n",
       "\n",
       "#sk-container-id-1 div.sk-estimator.fitted:hover {\n",
       "  /* fitted */\n",
       "  background-color: var(--sklearn-color-fitted-level-2);\n",
       "}\n",
       "\n",
       "/* Specification for estimator info (e.g. \"i\" and \"?\") */\n",
       "\n",
       "/* Common style for \"i\" and \"?\" */\n",
       "\n",
       ".sk-estimator-doc-link,\n",
       "a:link.sk-estimator-doc-link,\n",
       "a:visited.sk-estimator-doc-link {\n",
       "  float: right;\n",
       "  font-size: smaller;\n",
       "  line-height: 1em;\n",
       "  font-family: monospace;\n",
       "  background-color: var(--sklearn-color-background);\n",
       "  border-radius: 1em;\n",
       "  height: 1em;\n",
       "  width: 1em;\n",
       "  text-decoration: none !important;\n",
       "  margin-left: 1ex;\n",
       "  /* unfitted */\n",
       "  border: var(--sklearn-color-unfitted-level-1) 1pt solid;\n",
       "  color: var(--sklearn-color-unfitted-level-1);\n",
       "}\n",
       "\n",
       ".sk-estimator-doc-link.fitted,\n",
       "a:link.sk-estimator-doc-link.fitted,\n",
       "a:visited.sk-estimator-doc-link.fitted {\n",
       "  /* fitted */\n",
       "  border: var(--sklearn-color-fitted-level-1) 1pt solid;\n",
       "  color: var(--sklearn-color-fitted-level-1);\n",
       "}\n",
       "\n",
       "/* On hover */\n",
       "div.sk-estimator:hover .sk-estimator-doc-link:hover,\n",
       ".sk-estimator-doc-link:hover,\n",
       "div.sk-label-container:hover .sk-estimator-doc-link:hover,\n",
       ".sk-estimator-doc-link:hover {\n",
       "  /* unfitted */\n",
       "  background-color: var(--sklearn-color-unfitted-level-3);\n",
       "  color: var(--sklearn-color-background);\n",
       "  text-decoration: none;\n",
       "}\n",
       "\n",
       "div.sk-estimator.fitted:hover .sk-estimator-doc-link.fitted:hover,\n",
       ".sk-estimator-doc-link.fitted:hover,\n",
       "div.sk-label-container:hover .sk-estimator-doc-link.fitted:hover,\n",
       ".sk-estimator-doc-link.fitted:hover {\n",
       "  /* fitted */\n",
       "  background-color: var(--sklearn-color-fitted-level-3);\n",
       "  color: var(--sklearn-color-background);\n",
       "  text-decoration: none;\n",
       "}\n",
       "\n",
       "/* Span, style for the box shown on hovering the info icon */\n",
       ".sk-estimator-doc-link span {\n",
       "  display: none;\n",
       "  z-index: 9999;\n",
       "  position: relative;\n",
       "  font-weight: normal;\n",
       "  right: .2ex;\n",
       "  padding: .5ex;\n",
       "  margin: .5ex;\n",
       "  width: min-content;\n",
       "  min-width: 20ex;\n",
       "  max-width: 50ex;\n",
       "  color: var(--sklearn-color-text);\n",
       "  box-shadow: 2pt 2pt 4pt #999;\n",
       "  /* unfitted */\n",
       "  background: var(--sklearn-color-unfitted-level-0);\n",
       "  border: .5pt solid var(--sklearn-color-unfitted-level-3);\n",
       "}\n",
       "\n",
       ".sk-estimator-doc-link.fitted span {\n",
       "  /* fitted */\n",
       "  background: var(--sklearn-color-fitted-level-0);\n",
       "  border: var(--sklearn-color-fitted-level-3);\n",
       "}\n",
       "\n",
       ".sk-estimator-doc-link:hover span {\n",
       "  display: block;\n",
       "}\n",
       "\n",
       "/* \"?\"-specific style due to the `<a>` HTML tag */\n",
       "\n",
       "#sk-container-id-1 a.estimator_doc_link {\n",
       "  float: right;\n",
       "  font-size: 1rem;\n",
       "  line-height: 1em;\n",
       "  font-family: monospace;\n",
       "  background-color: var(--sklearn-color-background);\n",
       "  border-radius: 1rem;\n",
       "  height: 1rem;\n",
       "  width: 1rem;\n",
       "  text-decoration: none;\n",
       "  /* unfitted */\n",
       "  color: var(--sklearn-color-unfitted-level-1);\n",
       "  border: var(--sklearn-color-unfitted-level-1) 1pt solid;\n",
       "}\n",
       "\n",
       "#sk-container-id-1 a.estimator_doc_link.fitted {\n",
       "  /* fitted */\n",
       "  border: var(--sklearn-color-fitted-level-1) 1pt solid;\n",
       "  color: var(--sklearn-color-fitted-level-1);\n",
       "}\n",
       "\n",
       "/* On hover */\n",
       "#sk-container-id-1 a.estimator_doc_link:hover {\n",
       "  /* unfitted */\n",
       "  background-color: var(--sklearn-color-unfitted-level-3);\n",
       "  color: var(--sklearn-color-background);\n",
       "  text-decoration: none;\n",
       "}\n",
       "\n",
       "#sk-container-id-1 a.estimator_doc_link.fitted:hover {\n",
       "  /* fitted */\n",
       "  background-color: var(--sklearn-color-fitted-level-3);\n",
       "}\n",
       "</style><div id=\"sk-container-id-1\" class=\"sk-top-container\"><div class=\"sk-text-repr-fallback\"><pre>LinearRegression()</pre><b>In a Jupyter environment, please rerun this cell to show the HTML representation or trust the notebook. <br />On GitHub, the HTML representation is unable to render, please try loading this page with nbviewer.org.</b></div><div class=\"sk-container\" hidden><div class=\"sk-item\"><div class=\"sk-estimator fitted sk-toggleable\"><input class=\"sk-toggleable__control sk-hidden--visually\" id=\"sk-estimator-id-1\" type=\"checkbox\" checked><label for=\"sk-estimator-id-1\" class=\"sk-toggleable__label fitted sk-toggleable__label-arrow fitted\">&nbsp;&nbsp;LinearRegression<a class=\"sk-estimator-doc-link fitted\" rel=\"noreferrer\" target=\"_blank\" href=\"https://scikit-learn.org/1.4/modules/generated/sklearn.linear_model.LinearRegression.html\">?<span>Documentation for LinearRegression</span></a><span class=\"sk-estimator-doc-link fitted\">i<span>Fitted</span></span></label><div class=\"sk-toggleable__content fitted\"><pre>LinearRegression()</pre></div> </div></div></div></div>"
      ],
      "text/plain": [
       "LinearRegression()"
      ]
     },
     "execution_count": 165,
     "metadata": {},
     "output_type": "execute_result"
    }
   ],
   "source": [
    "lin_reg = LinearRegression()\n",
    "lin_reg.fit(X_train_sd, y_train)"
   ]
  },
  {
   "cell_type": "code",
   "execution_count": 213,
   "id": "c9e3a8c6-0172-481d-9501-39138a68027e",
   "metadata": {},
   "outputs": [],
   "source": [
    "#Making predictions on test data"
   ]
  },
  {
   "cell_type": "code",
   "execution_count": 167,
   "id": "3ff4547d-4822-4310-955c-1bf70409f83e",
   "metadata": {},
   "outputs": [],
   "source": [
    "y_pred = lin_reg.predict(X_test_sd)"
   ]
  },
  {
   "cell_type": "code",
   "execution_count": 215,
   "id": "4fc3c6b6-bbff-4a46-8ed5-4285b2c9cdf3",
   "metadata": {},
   "outputs": [],
   "source": [
    "#Calculating the MAE and RMSE for Linear Regression model"
   ]
  },
  {
   "cell_type": "code",
   "execution_count": 169,
   "id": "d3822894-dc06-45ed-8003-419886b791bd",
   "metadata": {},
   "outputs": [],
   "source": [
    "mae = mean_absolute_error(y_test, y_pred)\n",
    "rmse = np.sqrt(mean_squared_error(y_test, y_pred))"
   ]
  },
  {
   "cell_type": "code",
   "execution_count": 217,
   "id": "84f9f6eb-473c-4236-97d8-90c68bb183da",
   "metadata": {},
   "outputs": [],
   "source": [
    "#Printing the results"
   ]
  },
  {
   "cell_type": "code",
   "execution_count": 171,
   "id": "ff2784d6-e834-4156-9911-9088a444fdb2",
   "metadata": {},
   "outputs": [
    {
     "name": "stdout",
     "output_type": "stream",
     "text": [
      "Multivariate Linear Regression Model:\n",
      "MAE: 96953.14\n",
      "RMSE: 127987.83\n"
     ]
    }
   ],
   "source": [
    "print(\"Multivariate Linear Regression Model:\")\n",
    "print(f\"MAE: {mae:.2f}\")\n",
    "print(f\"RMSE: {rmse:.2f}\")"
   ]
  },
  {
   "cell_type": "code",
   "execution_count": null,
   "id": "b8271d69-e44c-431f-95d0-50fbca960f79",
   "metadata": {},
   "outputs": [],
   "source": []
  }
 ],
 "metadata": {
  "kernelspec": {
   "display_name": "Python 3 (ipykernel)",
   "language": "python",
   "name": "python3"
  },
  "language_info": {
   "codemirror_mode": {
    "name": "ipython",
    "version": 3
   },
   "file_extension": ".py",
   "mimetype": "text/x-python",
   "name": "python",
   "nbconvert_exporter": "python",
   "pygments_lexer": "ipython3",
   "version": "3.12.4"
  }
 },
 "nbformat": 4,
 "nbformat_minor": 5
}
